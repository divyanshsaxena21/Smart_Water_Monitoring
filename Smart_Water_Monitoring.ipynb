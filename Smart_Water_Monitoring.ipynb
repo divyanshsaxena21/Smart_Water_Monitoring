{
  "nbformat": 4,
  "nbformat_minor": 0,
  "metadata": {
    "colab": {
      "provenance": [],
      "include_colab_link": true
    },
    "kernelspec": {
      "name": "python3",
      "display_name": "Python 3"
    },
    "language_info": {
      "name": "python"
    }
  },
  "cells": [
    {
      "cell_type": "markdown",
      "metadata": {
        "id": "view-in-github",
        "colab_type": "text"
      },
      "source": [
        "<a href=\"https://colab.research.google.com/github/divyanshsaxena21/Smart_Water_Monitoring/blob/main/Smart_Water_Monitoring.ipynb\" target=\"_parent\"><img src=\"https://colab.research.google.com/assets/colab-badge.svg\" alt=\"Open In Colab\"/></a>"
      ]
    },
    {
      "cell_type": "code",
      "execution_count": null,
      "metadata": {
        "id": "JzScFE_iXrv1"
      },
      "outputs": [],
      "source": [
        "import pandas as pd\n",
        "import numpy as np\n",
        "from sklearn.model_selection import train_test_split\n",
        "from sklearn.preprocessing import OneHotEncoder, StandardScaler\n",
        "from sklearn.impute import SimpleImputer\n",
        "from sklearn.pipeline import Pipeline\n",
        "from sklearn.compose import ColumnTransformer\n",
        "from sklearn.metrics import mean_absolute_error, mean_squared_error, r2_score\n",
        "from sklearn.ensemble import AdaBoostRegressor\n",
        "import lightgbm as lgb\n",
        "import xgboost as xgb"
      ]
    },
    {
      "cell_type": "code",
      "source": [
        "# Load dataset\n",
        "train_df = pd.read_csv(\"/content/train.csv\")\n"
      ],
      "metadata": {
        "id": "2MaH4uUKYPwI"
      },
      "execution_count": null,
      "outputs": []
    },
    {
      "cell_type": "code",
      "source": [
        "# Convert Humidity to numeric (force errors to NaN)\n",
        "train_df[\"Humidity\"] = pd.to_numeric(train_df[\"Humidity\"], errors='coerce')\n",
        "\n",
        "# Drop rows where numerical columns have non-numeric values\n",
        "num_cols = ['Residents', 'Temperature', 'Humidity', 'Water_Price',\n",
        "            'Period_Consumption_Index', 'Guests', 'Appliance_Usage']\n"
      ],
      "metadata": {
        "id": "Qdu51lAuYWbK"
      },
      "execution_count": null,
      "outputs": []
    },
    {
      "cell_type": "code",
      "source": [
        "train_df[num_cols] = train_df[num_cols].apply(pd.to_numeric, errors='coerce')\n",
        "train_df.dropna(subset=['Water_Consumption'], inplace=True)  # Target variable should not have NaN\n"
      ],
      "metadata": {
        "id": "VOSRqMjKYW4T"
      },
      "execution_count": null,
      "outputs": []
    },
    {
      "cell_type": "code",
      "source": [
        "# Select features and target\n",
        "target = 'Water_Consumption'\n",
        "features = num_cols + ['Apartment_Type', 'Income_Level', 'Amenities']\n"
      ],
      "metadata": {
        "id": "IzgsmYUlYYE_"
      },
      "execution_count": null,
      "outputs": []
    },
    {
      "cell_type": "code",
      "source": [
        "# Separate numerical and categorical features\n",
        "cat_features = ['Apartment_Type', 'Income_Level', 'Amenities']\n"
      ],
      "metadata": {
        "id": "aIhasyLpYdy2"
      },
      "execution_count": null,
      "outputs": []
    },
    {
      "cell_type": "code",
      "source": [
        "# Define preprocessing steps\n",
        "num_transformer = Pipeline(steps=[\n",
        "    ('imputer', SimpleImputer(strategy='mean')),  # Replace missing values with mean\n",
        "    ('scaler', StandardScaler())\n",
        "])\n",
        "\n",
        "cat_transformer = Pipeline(steps=[\n",
        "    ('imputer', SimpleImputer(strategy='most_frequent')),  # Fill missing categories\n",
        "    ('onehot', OneHotEncoder(handle_unknown='ignore'))\n",
        "])\n",
        "\n",
        "preprocessor = ColumnTransformer(transformers=[\n",
        "    ('num', num_transformer, num_cols),\n",
        "    ('cat', cat_transformer, cat_features)\n",
        "])\n"
      ],
      "metadata": {
        "id": "iCTz6o6WbSMy"
      },
      "execution_count": null,
      "outputs": []
    },
    {
      "cell_type": "code",
      "source": [
        "# Split the data for training and validation\n",
        "X_train, X_val, y_train, y_val = train_test_split(train_df[features], train_df[target], test_size=0.2, random_state=42)\n"
      ],
      "metadata": {
        "id": "ZEibpTlRa_UB"
      },
      "execution_count": null,
      "outputs": []
    },
    {
      "cell_type": "code",
      "source": [
        "# Preprocess data\n",
        "X_train = preprocessor.fit_transform(X_train)\n",
        "X_val = preprocessor.transform(X_val)"
      ],
      "metadata": {
        "id": "9cL9cWqX9Bjf"
      },
      "execution_count": null,
      "outputs": []
    },
    {
      "cell_type": "code",
      "source": [
        "# Train AdaBoostRegressor model\n",
        "ada_model = AdaBoostRegressor(n_estimators=100, random_state=42)\n",
        "ada_model.fit(X_train, y_train)\n",
        "y_val_pred_ada = ada_model.predict(X_val)\n",
        "\n",
        "# Train LightGBM model\n",
        "lgb_model = lgb.LGBMRegressor(n_estimators=100, random_state=42)\n",
        "lgb_model.fit(X_train, y_train)\n",
        "y_val_pred_lgb = lgb_model.predict(X_val)\n",
        "\n",
        "# Train XGBoost model\n",
        "xgb_model = xgb.XGBRegressor(n_estimators=100, random_state=42)\n",
        "xgb_model.fit(X_train, y_train)\n",
        "y_val_pred_xgb = xgb_model.predict(X_val)"
      ],
      "metadata": {
        "id": "ltNRfyYBa97z",
        "colab": {
          "base_uri": "https://localhost:8080/"
        },
        "outputId": "7a2628f1-28da-406a-b429-a78d012900dd"
      },
      "execution_count": null,
      "outputs": [
        {
          "output_type": "stream",
          "name": "stderr",
          "text": [
            "/usr/local/lib/python3.11/dist-packages/sklearn/utils/deprecation.py:151: FutureWarning: 'force_all_finite' was renamed to 'ensure_all_finite' in 1.6 and will be removed in 1.8.\n",
            "  warnings.warn(\n",
            "/usr/local/lib/python3.11/dist-packages/sklearn/utils/deprecation.py:151: FutureWarning: 'force_all_finite' was renamed to 'ensure_all_finite' in 1.6 and will be removed in 1.8.\n",
            "  warnings.warn(\n"
          ]
        },
        {
          "output_type": "stream",
          "name": "stdout",
          "text": [
            "[LightGBM] [Info] Auto-choosing row-wise multi-threading, the overhead of testing was 0.000464 seconds.\n",
            "You can set `force_row_wise=true` to remove the overhead.\n",
            "And if memory is not enough, you can set `force_col_wise=true`.\n",
            "[LightGBM] [Info] Total Bins 1026\n",
            "[LightGBM] [Info] Number of data points in the train set: 11200, number of used features: 22\n",
            "[LightGBM] [Info] Start training from score 164.187287\n"
          ]
        }
      ]
    },
    {
      "cell_type": "code",
      "source": [
        "# Combine predictions (Averaging)\n",
        "y_val_pred_ensemble = (y_val_pred_ada + y_val_pred_lgb + y_val_pred_xgb) / 3\n"
      ],
      "metadata": {
        "id": "sdBJtvXu_MsS"
      },
      "execution_count": null,
      "outputs": []
    },
    {
      "cell_type": "code",
      "source": [
        "# Evaluation function\n",
        "def evaluate_model(y_true, y_pred, model_name):\n",
        "    mae = mean_absolute_error(y_true, y_pred)\n",
        "    mse = mean_squared_error(y_true, y_pred)\n",
        "    rmse = np.sqrt(mse)\n",
        "    r2 = r2_score(y_true, y_pred)\n",
        "    print(f\"\\n📊 {model_name} Model Performance:\")\n",
        "    print(f\"MAE: {mae:.2f}\")\n",
        "    print(f\"MSE: {mse:.2f}\")\n",
        "    print(f\"RMSE: {rmse:.2f}\")\n",
        "    print(f\"R² Score: {r2:.4f}\")\n",
        "\n",
        "evaluate_model(y_val, y_val_pred_ada, \"AdaBoostRegressor\")\n",
        "evaluate_model(y_val, y_val_pred_lgb, \"LightGBM\")\n",
        "evaluate_model(y_val, y_val_pred_xgb, \"XGBoost\")\n",
        "evaluate_model(y_val, y_val_pred_ensemble, \"Ensemble (AdaBoost + LightGBM + XGBoost)\")\n"
      ],
      "metadata": {
        "colab": {
          "base_uri": "https://localhost:8080/"
        },
        "id": "yPTqohWrbA4j",
        "outputId": "156fd658-aaba-4871-ea56-b01900b0fe87"
      },
      "execution_count": null,
      "outputs": [
        {
          "output_type": "stream",
          "name": "stdout",
          "text": [
            "\n",
            "📊 AdaBoostRegressor Model Performance:\n",
            "MAE: 34.78\n",
            "MSE: 1591.16\n",
            "RMSE: 39.89\n",
            "R² Score: 0.7156\n",
            "\n",
            "📊 LightGBM Model Performance:\n",
            "MAE: 7.00\n",
            "MSE: 127.53\n",
            "RMSE: 11.29\n",
            "R² Score: 0.9772\n",
            "\n",
            "📊 XGBoost Model Performance:\n",
            "MAE: 8.38\n",
            "MSE: 169.59\n",
            "RMSE: 13.02\n",
            "R² Score: 0.9697\n",
            "\n",
            "📊 Ensemble (AdaBoost + LightGBM + XGBoost) Model Performance:\n",
            "MAE: 14.44\n",
            "MSE: 305.93\n",
            "RMSE: 17.49\n",
            "R² Score: 0.9453\n"
          ]
        }
      ]
    },
    {
      "cell_type": "code",
      "source": [
        "# Load test data\n",
        "test_df = pd.read_csv('/content/test.csv')\n",
        "test_df[\"Humidity\"] = pd.to_numeric(test_df[\"Humidity\"], errors='coerce')\n",
        "test_df[num_cols] = test_df[num_cols].apply(pd.to_numeric, errors='coerce')"
      ],
      "metadata": {
        "id": "IjVdFLOCbCFa"
      },
      "execution_count": null,
      "outputs": []
    },
    {
      "cell_type": "code",
      "source": [
        "# Convert Humidity and other numerical columns\n",
        "test_df[\"Humidity\"] = pd.to_numeric(test_df[\"Humidity\"], errors='coerce')\n",
        "test_df[num_cols] = test_df[num_cols].apply(pd.to_numeric, errors='coerce')\n"
      ],
      "metadata": {
        "id": "AGq6ep_ubp6H"
      },
      "execution_count": null,
      "outputs": []
    },
    {
      "cell_type": "code",
      "source": [
        "# Ensure 'Timestamp' exists\n",
        "timestamps = test_df.get('Timestamp', pd.Series(range(len(test_df))))"
      ],
      "metadata": {
        "id": "cZ0Uf52JbrT-"
      },
      "execution_count": null,
      "outputs": []
    },
    {
      "cell_type": "code",
      "source": [
        "# Preprocess test data\n",
        "X_test = preprocessor.transform(test_df[features])\n",
        "\n",
        "# Make predictions\n",
        "ada_predictions = ada_model.predict(X_test)\n",
        "lgb_predictions = lgb_model.predict(X_test)\n",
        "xgb_predictions = xgb_model.predict(X_test)\n",
        "ensemble_predictions = (ada_predictions + lgb_predictions + xgb_predictions) / 3"
      ],
      "metadata": {
        "id": "SwnFG6vQbsbj",
        "colab": {
          "base_uri": "https://localhost:8080/"
        },
        "outputId": "81ef46bd-87bd-4ae0-f911-f4ee75bc3c64"
      },
      "execution_count": null,
      "outputs": [
        {
          "output_type": "stream",
          "name": "stderr",
          "text": [
            "/usr/local/lib/python3.11/dist-packages/sklearn/utils/deprecation.py:151: FutureWarning: 'force_all_finite' was renamed to 'ensure_all_finite' in 1.6 and will be removed in 1.8.\n",
            "  warnings.warn(\n"
          ]
        }
      ]
    },
    {
      "cell_type": "code",
      "source": [
        "# Create submission file\n",
        "pd.DataFrame({'Timestamp': timestamps, 'Water_Consumption': ensemble_predictions}).to_csv(\"submission_ensemble_xgb_lgbm_ada.csv\", index=False)\n",
        "\n",
        "print(\"✅ Submission file created: submission_ensemble.csv\")\n"
      ],
      "metadata": {
        "colab": {
          "base_uri": "https://localhost:8080/"
        },
        "id": "fbkQTSJJb6yi",
        "outputId": "8130f3b7-17a6-40c9-d738-30338651c5a6"
      },
      "execution_count": null,
      "outputs": [
        {
          "output_type": "stream",
          "name": "stdout",
          "text": [
            "✅ Submission file created: submission_ensemble.csv\n"
          ]
        }
      ]
    },
    {
      "cell_type": "code",
      "source": [],
      "metadata": {
        "id": "jPmXE6L8b-PY"
      },
      "execution_count": null,
      "outputs": []
    }
  ]
}